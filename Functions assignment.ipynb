{
 "cells": [
  {
   "cell_type": "code",
   "execution_count": null,
   "id": "c62aec88",
   "metadata": {},
   "outputs": [],
   "source": [
    "Functions"
   ]
  },
  {
   "cell_type": "code",
   "execution_count": null,
   "id": "6b68067e",
   "metadata": {},
   "outputs": [],
   "source": [
    "Q1. Which keyword is used to create a function? Create a function to return a list of odd numbers in the\n",
    "range of 1 to 25.\n",
    "\n",
    "ANS: The keyword used to create a function in Python is def."
   ]
  },
  {
   "cell_type": "code",
   "execution_count": 1,
   "id": "ce52915f",
   "metadata": {},
   "outputs": [
    {
     "name": "stdout",
     "output_type": "stream",
     "text": [
      "[1, 3, 5, 7, 9, 11, 13, 15, 17, 19, 21, 23, 25]\n"
     ]
    }
   ],
   "source": [
    "def get_odd_numbers():\n",
    "    odd_numbers = [num for num in range(1, 26) if num % 2 != 0]\n",
    "    return odd_numbers\n",
    "\n",
    "# Calling the function\n",
    "odd_numbers_list = get_odd_numbers()\n",
    "print(odd_numbers_list)"
   ]
  },
  {
   "cell_type": "code",
   "execution_count": null,
   "id": "0b97b379",
   "metadata": {},
   "outputs": [],
   "source": [
    "Q2. Why *args and **kwargs is used in some functions? Create a function each for *args and **kwargs to\n",
    "demonstrate their use.\n",
    "\n",
    "ANS: In Python, *args and **kwargs are used in functions to allow for variable-length arguments, enabling you to pass a flexible number of arguments to a function.\n",
    "\n",
    "*args:\n",
    "*args is used to pass a variable number of non-keyword arguments to a function. It allows you to pass any number of positional arguments, which are then accessible as a tuple inside the function.\n",
    "\n",
    "**kwargs:\n",
    "**kwargs is used to pass a variable number of keyword arguments to a function. It allows you to pass any number of named arguments, which are then accessible as a dictionary inside the function."
   ]
  },
  {
   "cell_type": "code",
   "execution_count": 2,
   "id": "1d365112",
   "metadata": {},
   "outputs": [
    {
     "name": "stdout",
     "output_type": "stream",
     "text": [
      "6\n",
      "30\n",
      "name: Alice\n",
      "age: 30\n",
      "profession: Engineer\n"
     ]
    }
   ],
   "source": [
    "def sum_all(*args):\n",
    "    return sum(args)\n",
    "\n",
    "# Calling the function with different numbers of arguments\n",
    "print(sum_all(1, 2, 3))         # Output: 6\n",
    "print(sum_all(4, 5, 6, 7, 8))   # Output: 30\n",
    "\n",
    "def print_person_details(**kwargs):\n",
    "    for key, value in kwargs.items():\n",
    "        print(f\"{key}: {value}\")\n",
    "\n",
    "# Calling the function with different keyword arguments\n",
    "print_person_details(name=\"Alice\", age=30, profession=\"Engineer\")\n"
   ]
  },
  {
   "cell_type": "code",
   "execution_count": null,
   "id": "0de9df9f",
   "metadata": {},
   "outputs": [],
   "source": [
    "Q3. What is an iterator in python? Name the method used to initialise the iterator object and the method\n",
    "used for iteration. Use these methods to print the first five elements of the given list [2, 4, 6, 8, 10, 12, 14, 16,\n",
    "18, 20].\n",
    "\n",
    "ANS : An iterator in Python is an object that allows you to traverse through all the elements in a collection (like a list or a tuple) one at a time. It implements two main methods:\n",
    "\n",
    "__iter__(): This method is used to initialize the iterator object. It returns the iterator object itself.\n",
    "__next__(): This method is used for iteration. It returns the next element from the collection. If there are no more elements, it raises a StopIteration exception."
   ]
  },
  {
   "cell_type": "code",
   "execution_count": 3,
   "id": "ae45d377",
   "metadata": {},
   "outputs": [
    {
     "name": "stdout",
     "output_type": "stream",
     "text": [
      "2\n",
      "4\n",
      "6\n",
      "8\n",
      "10\n"
     ]
    }
   ],
   "source": [
    "# Given list\n",
    "my_list = [2, 4, 6, 8, 10, 12, 14, 16, 18, 20]\n",
    "\n",
    "# Initialize the iterator object\n",
    "iterator = iter(my_list)\n",
    "\n",
    "# Iterate through the first five elements using __next__()\n",
    "for _ in range(5):\n",
    "    element = next(iterator)\n",
    "    print(element)\n"
   ]
  },
  {
   "cell_type": "code",
   "execution_count": null,
   "id": "579d940a",
   "metadata": {},
   "outputs": [],
   "source": [
    "Q4. What is a generator function in python? Why yield keyword is used? Give an example of a generator\n",
    "function.\n",
    "\n",
    "ANS : A generator function in Python is a special type of function that returns an iterator (a generator) which can be used to iterate over a sequence of values. Unlike regular functions that return a single value and terminate, generator functions yield a sequence of values, one at a time, using the yield keyword.\n",
    "\n",
    "The yield keyword is used in a generator function to produce a value and pause the function's execution. When the generator's __next__() method is called, the function resumes execution from where it left off, continuing until it either yields another value or completes."
   ]
  },
  {
   "cell_type": "code",
   "execution_count": 4,
   "id": "7492835a",
   "metadata": {},
   "outputs": [
    {
     "name": "stdout",
     "output_type": "stream",
     "text": [
      "1\n",
      "3\n",
      "5\n",
      "7\n",
      "9\n"
     ]
    }
   ],
   "source": [
    "def generate_odd_numbers(n):\n",
    "    number = 1\n",
    "    count = 0\n",
    "    while count < n:\n",
    "        yield number\n",
    "        number += 2\n",
    "        count += 1\n",
    "\n",
    "# Using the generator function\n",
    "odd_numbers_generator = generate_odd_numbers(5)\n",
    "\n",
    "# Iterating over the generator to get the values\n",
    "for odd_number in odd_numbers_generator:\n",
    "    print(odd_number)\n"
   ]
  },
  {
   "cell_type": "code",
   "execution_count": null,
   "id": "1417e780",
   "metadata": {},
   "outputs": [],
   "source": [
    "Q5. Create a generator function for prime numbers less than 1000. Use the next() method to print the\n",
    "first 20 prime numbers.\n",
    "\n",
    "ANS: Here's a generator function to generate prime numbers less than 1000. The function will use the yield keyword to produce each prime number one by one. Then, we'll use the next() method to print the first 20 prime numbers."
   ]
  },
  {
   "cell_type": "code",
   "execution_count": 5,
   "id": "2dacf082",
   "metadata": {},
   "outputs": [
    {
     "name": "stdout",
     "output_type": "stream",
     "text": [
      "2\n",
      "3\n",
      "5\n",
      "7\n",
      "11\n",
      "13\n",
      "17\n",
      "19\n",
      "23\n",
      "29\n",
      "31\n",
      "37\n",
      "41\n",
      "43\n",
      "47\n",
      "53\n",
      "59\n",
      "61\n",
      "67\n",
      "71\n"
     ]
    }
   ],
   "source": [
    "def prime_generator():\n",
    "    for num in range(2, 1000):\n",
    "        is_prime = True\n",
    "        for i in range(2, int(num ** 0.5) + 1):\n",
    "            if num % i == 0:\n",
    "                is_prime = False\n",
    "                break\n",
    "        if is_prime:\n",
    "            yield num\n",
    "\n",
    "# Initialize the generator\n",
    "primes = prime_generator()\n",
    "\n",
    "# Print the first 20 prime numbers\n",
    "for _ in range(20):\n",
    "    print(next(primes))\n"
   ]
  },
  {
   "cell_type": "code",
   "execution_count": null,
   "id": "3c0f743a",
   "metadata": {},
   "outputs": [],
   "source": []
  }
 ],
 "metadata": {
  "kernelspec": {
   "display_name": "Python 3 (ipykernel)",
   "language": "python",
   "name": "python3"
  },
  "language_info": {
   "codemirror_mode": {
    "name": "ipython",
    "version": 3
   },
   "file_extension": ".py",
   "mimetype": "text/x-python",
   "name": "python",
   "nbconvert_exporter": "python",
   "pygments_lexer": "ipython3",
   "version": "3.11.4"
  }
 },
 "nbformat": 4,
 "nbformat_minor": 5
}
